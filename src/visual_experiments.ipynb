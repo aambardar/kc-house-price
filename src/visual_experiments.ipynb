{
 "cells": [
  {
   "cell_type": "code",
   "execution_count": 1,
   "id": "initial_id",
   "metadata": {
    "collapsed": true,
    "ExecuteTime": {
     "end_time": "2024-03-10T09:33:29.911301Z",
     "start_time": "2024-03-10T09:33:27.574610Z"
    }
   },
   "outputs": [],
   "source": [
    "# importing baseline packages\n",
    "import os\n",
    "\n",
    "# importing data processing packages\n",
    "import numpy as np\n",
    "import pandas as pd\n",
    "from sklearn.preprocessing import StandardScaler\n",
    "from sklearn.impute import SimpleImputer\n",
    "from sklearn.compose import ColumnTransformer\n",
    "\n",
    "# importing machine learning packages\n",
    "from sklearn.model_selection import train_test_split\n",
    "from sklearn.pipeline import Pipeline\n",
    "\n",
    "# importing visualisation libraries\n",
    "import matplotlib.pyplot as plt\n",
    "plt.style.use('../conf/custom_mpl_stylesheet.mplstyle')\n",
    "\n",
    "# import custom classes\n",
    "from custom_utils import DataPrepUtil"
   ]
  },
  {
   "cell_type": "code",
   "outputs": [],
   "source": [],
   "metadata": {
    "collapsed": false
   },
   "id": "c1cb0c482e99b856"
  }
 ],
 "metadata": {
  "kernelspec": {
   "display_name": "Python 3",
   "language": "python",
   "name": "python3"
  },
  "language_info": {
   "codemirror_mode": {
    "name": "ipython",
    "version": 2
   },
   "file_extension": ".py",
   "mimetype": "text/x-python",
   "name": "python",
   "nbconvert_exporter": "python",
   "pygments_lexer": "ipython2",
   "version": "2.7.6"
  }
 },
 "nbformat": 4,
 "nbformat_minor": 5
}
