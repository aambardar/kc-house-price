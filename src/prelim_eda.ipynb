{
 "cells": [
  {
   "cell_type": "code",
   "execution_count": null,
   "id": "initial_id",
   "metadata": {
    "collapsed": true
   },
   "outputs": [],
   "source": [
    "# importing baseline packages\n",
    "import os\n",
    "\n",
    "# importing data processing packages\n",
    "import numpy as np\n",
    "import pandas as pd\n",
    "from sklearn.preprocessing import StandardScaler\n",
    "from sklearn.impute import SimpleImputer\n",
    "from sklearn.compose import ColumnTransformer\n",
    "\n",
    "# importing machine learning packages\n",
    "from sklearn.model_selection import train_test_split\n",
    "from sklearn.pipeline import Pipeline\n",
    "\n",
    "# importing visualisation libraries\n",
    "import matplotlib.pyplot as plt\n",
    "plt.style.use('../conf/custom_mpl_stylesheet.mplstyle')\n",
    "\n",
    "# import custom classes\n",
    "from custom_utils import DataPrepUtil"
   ]
  },
  {
   "cell_type": "code",
   "outputs": [],
   "source": [
    "drop_cols = ['Id', 'SalePrice']\n",
    "train = pd.read_csv('../data/train.csv')\n",
    "test = pd.read_csv('../data/test.csv')\n",
    "X_train, X_val, y_train, y_val = train_test_split(train.drop(['Id', 'SalePrice'], axis=1), train['SalePrice'], test_size=0.2, random_state=43)"
   ],
   "metadata": {
    "collapsed": false
   },
   "id": "9ba9a019e270ea84",
   "execution_count": null
  },
  {
   "cell_type": "code",
   "outputs": [],
   "source": [
    "datautil = DataPrepUtil()"
   ],
   "metadata": {
    "collapsed": false
   },
   "id": "4d63064685f8abf8",
   "execution_count": null
  },
  {
   "cell_type": "code",
   "outputs": [],
   "source": [
    "missing_val_cols = [var for var in train.columns if train[var].isna().sum() > 0]\n",
    "train[missing_val_cols]"
   ],
   "metadata": {
    "collapsed": false
   },
   "id": "4fc6f4a2dd0a2693",
   "execution_count": null
  },
  {
   "cell_type": "code",
   "outputs": [],
   "source": [
    "fig, axes = plt.subplots(1, 2, figsize=(8, 4), dpi=100)\n",
    "axes[0].bar(train.groupby('MoSold')['SalePrice'].mean().index, train.groupby('MoSold')['SalePrice'].mean(), color='turquoise', width=0.7, alpha=0.75)\n",
    "axes[0].set_xlabel('MoSold')\n",
    "axes[0].set_ylabel('SalePrice')\n",
    "axes[0].set_title('Mean sale price per month sold')\n",
    "axes[1].bar(train.groupby('MoSold')['SalePrice'].median().index, train.groupby('MoSold')['SalePrice'].median(),  color='turquoise', width=0.7, alpha=0.75)\n",
    "axes[1].set_xlabel('MoSold')\n",
    "axes[1].set_ylabel('SalePrice')\n",
    "axes[1].set_title('Median sale price per month sold')\n",
    "\n",
    "plt.tight_layout()\n",
    "plt.show()"
   ],
   "metadata": {
    "collapsed": false
   },
   "id": "d3c8288bb35f533",
   "execution_count": null
  },
  {
   "cell_type": "code",
   "outputs": [],
   "source": [
    "datautil.plot_filled_values_percent(train[missing_val_cols], dpi=130)"
   ],
   "metadata": {
    "collapsed": false
   },
   "id": "34a0e1bb92430ac7",
   "execution_count": null
  },
  {
   "cell_type": "code",
   "outputs": [],
   "source": [
    "# list of categorical variables\n",
    "cat_cols = [var for var in train.columns if train[var].dtype == 'O']\n",
    "\n",
    "# list of the non-categorical variables\n",
    "non_cat_cols = [var for var in train.columns if train[var].dtype !='O']\n",
    "\n",
    "# list of variables that contain date & time information\n",
    "dt_cols = [var for var in train.columns if 'Yr' in var or 'Year' in var]\n",
    "\n",
    "# discrete numerical variables (i.e., numerical variables with a finite small set of distinct values (<20)\n",
    "disc_cols = [var for var in non_cat_cols if train[var].nunique() < 25 and var not in dt_cols]\n",
    "\n",
    "# list of numerical variables\n",
    "num_cols = [var for var in non_cat_cols if var not in disc_cols and var not in drop_cols]"
   ],
   "metadata": {
    "collapsed": false
   },
   "id": "b9a2f39295133923",
   "execution_count": null
  },
  {
   "cell_type": "code",
   "outputs": [],
   "source": [
    "disc_cols.sort()"
   ],
   "metadata": {
    "collapsed": false
   },
   "id": "4b6994bc4c047731",
   "execution_count": null
  },
  {
   "cell_type": "code",
   "outputs": [],
   "source": [
    "cardinality = train[cat_cols].nunique()\n",
    "train[cardinality.index[0]].count()"
   ],
   "metadata": {
    "collapsed": false
   },
   "id": "de76bdbf4f5b41c5",
   "execution_count": null
  },
  {
   "cell_type": "code",
   "outputs": [],
   "source": [
    "datautil.plot_cat_col_cardinality(train[cat_cols], dpi=300)"
   ],
   "metadata": {
    "collapsed": false
   },
   "id": "82400a30e031057b",
   "execution_count": null
  },
  {
   "cell_type": "markdown",
   "source": [
    "## Data Imputation"
   ],
   "metadata": {
    "collapsed": false
   },
   "id": "f0f958eecf76abd3"
  },
  {
   "cell_type": "code",
   "outputs": [],
   "source": [
    "X_train[disc_cols] = X_train[disc_cols].astype('O')\n",
    "X_val[disc_cols] = X_val[disc_cols].astype('O')"
   ],
   "metadata": {
    "collapsed": false
   },
   "id": "d987734a6ddbdf6",
   "execution_count": null
  },
  {
   "cell_type": "code",
   "outputs": [],
   "source": [
    "ml_pipeline = Pipeline([\n",
    "    ('missing_indicator', mdi.AddMissingIndicator(\n",
    "        variables=non_cat_cols\n",
    "    ))  \n",
    "])"
   ],
   "metadata": {
    "collapsed": false
   },
   "id": "9a7831c100949edc"
  }
 ],
 "metadata": {
  "kernelspec": {
   "display_name": "Python 3",
   "language": "python",
   "name": "python3"
  },
  "language_info": {
   "codemirror_mode": {
    "name": "ipython",
    "version": 2
   },
   "file_extension": ".py",
   "mimetype": "text/x-python",
   "name": "python",
   "nbconvert_exporter": "python",
   "pygments_lexer": "ipython2",
   "version": "2.7.6"
  }
 },
 "nbformat": 4,
 "nbformat_minor": 5
}
